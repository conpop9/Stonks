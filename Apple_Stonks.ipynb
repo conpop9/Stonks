{
  "nbformat": 4,
  "nbformat_minor": 0,
  "metadata": {
    "kernelspec": {
      "display_name": "Python 3",
      "language": "python",
      "name": "python3"
    },
    "language_info": {
      "codemirror_mode": {
        "name": "ipython",
        "version": 3
      },
      "file_extension": ".py",
      "mimetype": "text/x-python",
      "name": "python",
      "nbconvert_exporter": "python",
      "pygments_lexer": "ipython3",
      "version": "3.7.3"
    },
    "colab": {
      "name": "Apple Stonks.ipynb",
      "provenance": [],
      "collapsed_sections": [],
      "toc_visible": true,
      "include_colab_link": true
    }
  },
  "cells": [
    {
      "cell_type": "markdown",
      "metadata": {
        "id": "view-in-github",
        "colab_type": "text"
      },
      "source": [
        "<a href=\"https://colab.research.google.com/github/conpop9/Stonks/blob/main/Apple_Stonks.ipynb\" target=\"_parent\"><img src=\"https://colab.research.google.com/assets/colab-badge.svg\" alt=\"Open In Colab\"/></a>"
      ]
    },
    {
      "cell_type": "markdown",
      "metadata": {
        "id": "iHtx87S1IoIp"
      },
      "source": [
        "Installing Dependencies"
      ]
    },
    {
      "cell_type": "code",
      "metadata": {
        "collapsed": true,
        "id": "cEMIqiDfIoIq"
      },
      "source": [
        "!pip install tensorflow-gpu==1.15.0 tensorflow==1.15.0 stable-baselines gym-anytrading gym"
      ],
      "execution_count": null,
      "outputs": []
    },
    {
      "cell_type": "code",
      "metadata": {
        "id": "-Msb95l5IoIr"
      },
      "source": [
        "\n",
        "import gym\n",
        "import gym_anytrading\n",
        "\n",
        "\n",
        "from stable_baselines.common.vec_env import DummyVecEnv\n",
        "from stable_baselines import A2C\n",
        "\n",
        "\n",
        "import numpy as np\n",
        "import pandas as pd\n",
        "from matplotlib import pyplot as plt"
      ],
      "execution_count": null,
      "outputs": []
    },
    {
      "cell_type": "markdown",
      "metadata": {
        "id": "nz6WJkO2IoIs"
      },
      "source": [
        "Importing Data"
      ]
    },
    {
      "cell_type": "code",
      "metadata": {
        "id": "apKdZZjHIoIs"
      },
      "source": [
        "df = pd.read_csv('aaple2.csv')"
      ],
      "execution_count": null,
      "outputs": []
    },
    {
      "cell_type": "code",
      "metadata": {
        "colab": {
          "base_uri": "https://localhost:8080/",
          "height": 204
        },
        "id": "XLrDZ20xIoIs",
        "outputId": "4e26202b-c4b1-4ff6-859a-ffc8bbcb25db"
      },
      "source": [
        "df.head()"
      ],
      "execution_count": null,
      "outputs": [
        {
          "output_type": "execute_result",
          "data": {
            "text/html": [
              "<div>\n",
              "<style scoped>\n",
              "    .dataframe tbody tr th:only-of-type {\n",
              "        vertical-align: middle;\n",
              "    }\n",
              "\n",
              "    .dataframe tbody tr th {\n",
              "        vertical-align: top;\n",
              "    }\n",
              "\n",
              "    .dataframe thead th {\n",
              "        text-align: right;\n",
              "    }\n",
              "</style>\n",
              "<table border=\"1\" class=\"dataframe\">\n",
              "  <thead>\n",
              "    <tr style=\"text-align: right;\">\n",
              "      <th></th>\n",
              "      <th>Date</th>\n",
              "      <th>Open</th>\n",
              "      <th>High</th>\n",
              "      <th>Low</th>\n",
              "      <th>Close</th>\n",
              "      <th>Volume</th>\n",
              "    </tr>\n",
              "  </thead>\n",
              "  <tbody>\n",
              "    <tr>\n",
              "      <th>0</th>\n",
              "      <td>05/20/2021</td>\n",
              "      <td>125.23</td>\n",
              "      <td>127.72</td>\n",
              "      <td>125.10</td>\n",
              "      <td>127.31</td>\n",
              "      <td>76,857,117</td>\n",
              "    </tr>\n",
              "    <tr>\n",
              "      <th>1</th>\n",
              "      <td>05/19/2021</td>\n",
              "      <td>123.16</td>\n",
              "      <td>124.92</td>\n",
              "      <td>122.86</td>\n",
              "      <td>124.69</td>\n",
              "      <td>92,611,992</td>\n",
              "    </tr>\n",
              "    <tr>\n",
              "      <th>2</th>\n",
              "      <td>05/18/2021</td>\n",
              "      <td>126.56</td>\n",
              "      <td>126.99</td>\n",
              "      <td>124.78</td>\n",
              "      <td>124.85</td>\n",
              "      <td>63,342,930</td>\n",
              "    </tr>\n",
              "    <tr>\n",
              "      <th>3</th>\n",
              "      <td>05/17/2021</td>\n",
              "      <td>126.82</td>\n",
              "      <td>126.93</td>\n",
              "      <td>125.17</td>\n",
              "      <td>126.27</td>\n",
              "      <td>74,116,555</td>\n",
              "    </tr>\n",
              "    <tr>\n",
              "      <th>4</th>\n",
              "      <td>05/14/2021</td>\n",
              "      <td>126.25</td>\n",
              "      <td>127.89</td>\n",
              "      <td>125.85</td>\n",
              "      <td>127.45</td>\n",
              "      <td>81,917,953</td>\n",
              "    </tr>\n",
              "  </tbody>\n",
              "</table>\n",
              "</div>"
            ],
            "text/plain": [
              "         Date    Open    High     Low   Close      Volume\n",
              "0  05/20/2021  125.23  127.72  125.10  127.31  76,857,117\n",
              "1  05/19/2021  123.16  124.92  122.86  124.69  92,611,992\n",
              "2  05/18/2021  126.56  126.99  124.78  124.85  63,342,930\n",
              "3  05/17/2021  126.82  126.93  125.17  126.27  74,116,555\n",
              "4  05/14/2021  126.25  127.89  125.85  127.45  81,917,953"
            ]
          },
          "metadata": {
            "tags": []
          },
          "execution_count": 15
        }
      ]
    },
    {
      "cell_type": "code",
      "metadata": {
        "colab": {
          "base_uri": "https://localhost:8080/"
        },
        "id": "CXwVb0GlIoIt",
        "outputId": "fbcc48a2-f3e2-4923-ace3-707d4fff6e95"
      },
      "source": [
        "df['Date'] = pd.to_datetime(df['Date'])\n",
        "df.dtypes"
      ],
      "execution_count": null,
      "outputs": [
        {
          "output_type": "execute_result",
          "data": {
            "text/plain": [
              "Date      datetime64[ns]\n",
              "Open             float64\n",
              "High             float64\n",
              "Low              float64\n",
              "Close            float64\n",
              "Volume            object\n",
              "dtype: object"
            ]
          },
          "metadata": {
            "tags": []
          },
          "execution_count": 31
        }
      ]
    },
    {
      "cell_type": "code",
      "metadata": {
        "colab": {
          "base_uri": "https://localhost:8080/",
          "height": 235
        },
        "id": "UkvrzgPZIoIt",
        "outputId": "6fa2ab6f-7f90-4baa-a113-d8f298624a1e"
      },
      "source": [
        "df.set_index('Date', inplace=True)\n",
        "df.head()"
      ],
      "execution_count": null,
      "outputs": [
        {
          "output_type": "execute_result",
          "data": {
            "text/html": [
              "<div>\n",
              "<style scoped>\n",
              "    .dataframe tbody tr th:only-of-type {\n",
              "        vertical-align: middle;\n",
              "    }\n",
              "\n",
              "    .dataframe tbody tr th {\n",
              "        vertical-align: top;\n",
              "    }\n",
              "\n",
              "    .dataframe thead th {\n",
              "        text-align: right;\n",
              "    }\n",
              "</style>\n",
              "<table border=\"1\" class=\"dataframe\">\n",
              "  <thead>\n",
              "    <tr style=\"text-align: right;\">\n",
              "      <th></th>\n",
              "      <th>Open</th>\n",
              "      <th>High</th>\n",
              "      <th>Low</th>\n",
              "      <th>Close</th>\n",
              "      <th>Volume</th>\n",
              "    </tr>\n",
              "    <tr>\n",
              "      <th>Date</th>\n",
              "      <th></th>\n",
              "      <th></th>\n",
              "      <th></th>\n",
              "      <th></th>\n",
              "      <th></th>\n",
              "    </tr>\n",
              "  </thead>\n",
              "  <tbody>\n",
              "    <tr>\n",
              "      <th>2021-03-12</th>\n",
              "      <td>120.40</td>\n",
              "      <td>121.17</td>\n",
              "      <td>119.16</td>\n",
              "      <td>121.03</td>\n",
              "      <td>88,105,047</td>\n",
              "    </tr>\n",
              "    <tr>\n",
              "      <th>2021-03-11</th>\n",
              "      <td>122.54</td>\n",
              "      <td>123.21</td>\n",
              "      <td>121.26</td>\n",
              "      <td>121.96</td>\n",
              "      <td>103,026,492</td>\n",
              "    </tr>\n",
              "    <tr>\n",
              "      <th>2021-03-10</th>\n",
              "      <td>121.69</td>\n",
              "      <td>122.17</td>\n",
              "      <td>119.45</td>\n",
              "      <td>119.98</td>\n",
              "      <td>111,943,297</td>\n",
              "    </tr>\n",
              "    <tr>\n",
              "      <th>2021-03-09</th>\n",
              "      <td>119.03</td>\n",
              "      <td>122.06</td>\n",
              "      <td>118.79</td>\n",
              "      <td>121.09</td>\n",
              "      <td>129,525,797</td>\n",
              "    </tr>\n",
              "    <tr>\n",
              "      <th>2021-03-08</th>\n",
              "      <td>120.93</td>\n",
              "      <td>121.00</td>\n",
              "      <td>116.21</td>\n",
              "      <td>116.36</td>\n",
              "      <td>154,376,609</td>\n",
              "    </tr>\n",
              "  </tbody>\n",
              "</table>\n",
              "</div>"
            ],
            "text/plain": [
              "              Open    High     Low   Close       Volume\n",
              "Date                                                   \n",
              "2021-03-12  120.40  121.17  119.16  121.03   88,105,047\n",
              "2021-03-11  122.54  123.21  121.26  121.96  103,026,492\n",
              "2021-03-10  121.69  122.17  119.45  119.98  111,943,297\n",
              "2021-03-09  119.03  122.06  118.79  121.09  129,525,797\n",
              "2021-03-08  120.93  121.00  116.21  116.36  154,376,609"
            ]
          },
          "metadata": {
            "tags": []
          },
          "execution_count": 32
        }
      ]
    },
    {
      "cell_type": "code",
      "metadata": {
        "id": "ERLxZXL9IoIu"
      },
      "source": [
        "env = gym.make('stocks-v0', df=df, frame_bound=(5,100), window_size=5)"
      ],
      "execution_count": null,
      "outputs": []
    },
    {
      "cell_type": "code",
      "metadata": {
        "scrolled": true,
        "colab": {
          "base_uri": "https://localhost:8080/"
        },
        "id": "YgYtXvcnIoIu",
        "outputId": "fbcd05e9-f0ae-4eaf-ba75-efe834769dfb"
      },
      "source": [
        "env.signal_features"
      ],
      "execution_count": null,
      "outputs": [
        {
          "output_type": "execute_result",
          "data": {
            "text/plain": [
              "array([[ 1.2103e+02,  0.0000e+00],\n",
              "       [ 1.2196e+02,  9.3000e-01],\n",
              "       [ 1.1998e+02, -1.9800e+00],\n",
              "       [ 1.2109e+02,  1.1100e+00],\n",
              "       [ 1.1636e+02, -4.7300e+00],\n",
              "       [ 1.2142e+02,  5.0600e+00],\n",
              "       [ 1.2013e+02, -1.2900e+00],\n",
              "       [ 1.2206e+02,  1.9300e+00],\n",
              "       [ 1.2512e+02,  3.0600e+00],\n",
              "       [ 1.2779e+02,  2.6700e+00],\n",
              "       [ 1.2126e+02, -6.5300e+00],\n",
              "       [ 1.2099e+02, -2.7000e-01],\n",
              "       [ 1.2535e+02,  4.3600e+00],\n",
              "       [ 1.2586e+02,  5.1000e-01],\n",
              "       [ 1.2600e+02,  1.4000e-01],\n",
              "       [ 1.2987e+02,  3.8700e+00],\n",
              "       [ 1.2971e+02, -1.6000e-01],\n",
              "       [ 1.3084e+02,  1.1300e+00],\n",
              "       [ 1.3319e+02,  2.3500e+00],\n",
              "       [ 1.3537e+02,  2.1800e+00],\n",
              "       [ 1.3513e+02, -2.4000e-01],\n",
              "       [ 1.3539e+02,  2.6000e-01],\n",
              "       [ 1.3601e+02,  6.2000e-01],\n",
              "       [ 1.3691e+02,  9.0000e-01],\n",
              "       [ 1.3676e+02, -1.5000e-01],\n",
              "       [ 1.3739e+02,  6.3000e-01],\n",
              "       [ 1.3394e+02, -3.4500e+00],\n",
              "       [ 1.3499e+02,  1.0500e+00],\n",
              "       [ 1.3414e+02, -8.5000e-01],\n",
              "       [ 1.3196e+02, -2.1800e+00],\n",
              "       [ 1.3709e+02,  5.1300e+00],\n",
              "       [ 1.4206e+02,  4.9700e+00],\n",
              "       [ 1.4316e+02,  1.1000e+00],\n",
              "       [ 1.4292e+02, -2.4000e-01],\n",
              "       [ 1.3907e+02, -3.8500e+00],\n",
              "       [ 1.3687e+02, -2.2000e+00],\n",
              "       [ 1.3203e+02, -4.8400e+00],\n",
              "       [ 1.2783e+02, -4.2000e+00],\n",
              "       [ 1.2714e+02, -6.9000e-01],\n",
              "       [ 1.2891e+02,  1.7700e+00],\n",
              "       [ 1.3089e+02,  1.9800e+00],\n",
              "       [ 1.2880e+02, -2.0900e+00],\n",
              "       [ 1.2898e+02,  1.8000e-01],\n",
              "       [ 1.3205e+02,  3.0700e+00],\n",
              "       [ 1.3092e+02, -1.1300e+00],\n",
              "       [ 1.2660e+02, -4.3200e+00],\n",
              "       [ 1.3101e+02,  4.4100e+00],\n",
              "       [ 1.2941e+02, -1.6000e+00],\n",
              "       [ 1.3269e+02,  3.2800e+00],\n",
              "       [ 1.3372e+02,  1.0300e+00],\n",
              "       [ 1.3487e+02,  1.1500e+00],\n",
              "       [ 1.3669e+02,  1.8200e+00],\n",
              "       [ 1.3197e+02, -4.7200e+00],\n",
              "       [ 1.3096e+02, -1.0100e+00],\n",
              "       [ 1.3188e+02,  9.2000e-01],\n",
              "       [ 1.2823e+02, -3.6500e+00],\n",
              "       [ 1.2666e+02, -1.5700e+00],\n",
              "       [ 1.2870e+02,  2.0400e+00],\n",
              "       [ 1.2781e+02, -8.9000e-01],\n",
              "       [ 1.2788e+02,  7.0000e-02],\n",
              "       [ 1.2178e+02, -6.1000e+00],\n",
              "       [ 1.2241e+02,  6.3000e-01],\n",
              "       [ 1.2324e+02,  8.3000e-01],\n",
              "       [ 1.2178e+02, -1.4600e+00],\n",
              "       [ 1.2438e+02,  2.6000e+00],\n",
              "       [ 1.2375e+02, -6.3000e-01],\n",
              "       [ 1.2225e+02, -1.5000e+00],\n",
              "       [ 1.2294e+02,  6.9000e-01],\n",
              "       [ 1.2308e+02,  1.4000e-01],\n",
              "       [ 1.2272e+02, -3.6000e-01],\n",
              "       [ 1.1905e+02, -3.6700e+00],\n",
              "       [ 1.1659e+02, -2.4600e+00],\n",
              "       [ 1.1603e+02, -5.6000e-01],\n",
              "       [ 1.1517e+02, -8.6000e-01],\n",
              "       [ 1.1385e+02, -1.3200e+00],\n",
              "       [ 1.1734e+02,  3.4900e+00],\n",
              "       [ 1.1864e+02,  1.3000e+00],\n",
              "       [ 1.1803e+02, -6.1000e-01],\n",
              "       [ 1.1939e+02,  1.3600e+00],\n",
              "       [ 1.2030e+02,  9.1000e-01],\n",
              "       [ 1.1926e+02, -1.0400e+00],\n",
              "       [ 1.1921e+02, -5.0000e-02],\n",
              "       [ 1.1949e+02,  2.8000e-01],\n",
              "       [ 1.1597e+02, -3.5200e+00],\n",
              "       [ 1.1632e+02,  3.5000e-01],\n",
              "       [ 1.1869e+02,  2.3700e+00],\n",
              "       [ 1.1903e+02,  3.4000e-01],\n",
              "       [ 1.1495e+02, -4.0800e+00],\n",
              "       [ 1.1044e+02, -4.5100e+00],\n",
              "       [ 1.0877e+02, -1.6700e+00],\n",
              "       [ 1.0886e+02,  9.0000e-02],\n",
              "       [ 1.1532e+02,  6.4600e+00],\n",
              "       [ 1.1120e+02, -4.1200e+00],\n",
              "       [ 1.1660e+02,  5.4000e+00],\n",
              "       [ 1.1505e+02, -1.5500e+00],\n",
              "       [ 1.1504e+02, -1.0000e-02],\n",
              "       [ 1.1575e+02,  7.1000e-01],\n",
              "       [ 1.1687e+02,  1.1200e+00],\n",
              "       [ 1.1751e+02,  6.4000e-01],\n",
              "       [ 1.1598e+02, -1.5300e+00]])"
            ]
          },
          "metadata": {
            "tags": []
          },
          "execution_count": 34
        }
      ]
    },
    {
      "cell_type": "markdown",
      "metadata": {
        "id": "VTL3enuCIoIu"
      },
      "source": [
        "Environment"
      ]
    },
    {
      "cell_type": "code",
      "metadata": {
        "colab": {
          "base_uri": "https://localhost:8080/"
        },
        "id": "UdlxksziIoIu",
        "outputId": "6560ec5d-61f3-4b27-c398-4ac1a77224d0"
      },
      "source": [
        "env.action_space"
      ],
      "execution_count": null,
      "outputs": [
        {
          "output_type": "execute_result",
          "data": {
            "text/plain": [
              "Discrete(2)"
            ]
          },
          "metadata": {
            "tags": []
          },
          "execution_count": 35
        }
      ]
    },
    {
      "cell_type": "code",
      "metadata": {
        "colab": {
          "base_uri": "https://localhost:8080/",
          "height": 434
        },
        "id": "zu8H7ne-IoIv",
        "outputId": "265909f5-fca6-4f06-c7fb-a3e48485e864"
      },
      "source": [
        "state = env.reset()\n",
        "while True: \n",
        "    action = env.action_space.sample()\n",
        "    n_state, reward, done, info = env.step(action)\n",
        "    if done: \n",
        "        print(\"info\", info)\n",
        "        break\n",
        "        \n",
        "plt.figure(figsize=(15,6))\n",
        "plt.cla()\n",
        "env.render_all()\n",
        "plt.show()"
      ],
      "execution_count": null,
      "outputs": [
        {
          "output_type": "stream",
          "text": [
            "info {'total_reward': 11.090000000000032, 'total_profit': 0.7465728277706531, 'position': 0}\n"
          ],
          "name": "stdout"
        },
        {
          "output_type": "display_data",
          "data": {
            "image/png": "[encoded data removed]",
            "text/plain": [
              "<Figure size 1080x432 with 1 Axes>"
            ]
          },
          "metadata": {
            "tags": [],
            "needs_background": "light"
          }
        }
      ]
    },
    {
      "cell_type": "markdown",
      "metadata": {
        "id": "yBUd4U-hIoIv"
      },
      "source": [
        "Training"
      ]
    },
    {
      "cell_type": "code",
      "metadata": {
        "id": "csMcZeMLIoIv"
      },
      "source": [
        "env_maker = lambda: gym.make('stocks-v0', df=df, frame_bound=(5,100), window_size=5)\n",
        "env = DummyVecEnv([env_maker])"
      ],
      "execution_count": null,
      "outputs": []
    },
    {
      "cell_type": "code",
      "metadata": {
        "scrolled": true,
        "id": "gGAAv8WUIoIv"
      },
      "source": [
        "model = A2C('MlpLstmPolicy', env, verbose=1) \n",
        "model.learn(total_timesteps=1000000)"
      ],
      "execution_count": null,
      "outputs": []
    },
    {
      "cell_type": "markdown",
      "metadata": {
        "id": "2vF_IapKIoIw"
      },
      "source": [
        "Evaluation"
      ]
    },
    {
      "cell_type": "code",
      "metadata": {
        "colab": {
          "base_uri": "https://localhost:8080/"
        },
        "id": "ab1uoiw7IoIw",
        "outputId": "516bb3a4-bad0-46d7-a204-d5e5d71188c0"
      },
      "source": [
        "env = gym.make('stocks-v0', df=df, frame_bound=(90,110), window_size=5)\n",
        "obs = env.reset()\n",
        "while True: \n",
        "    obs = obs[np.newaxis, ...]\n",
        "    action, _states = model.predict(obs)\n",
        "    obs, rewards, done, info = env.step(action)\n",
        "    if done:\n",
        "        print(\"info\", info)\n",
        "        break"
      ],
      "execution_count": null,
      "outputs": [
        {
          "output_type": "stream",
          "text": [
            "info {'total_reward': 5.780000000000001, 'total_profit': 0.9542487618540115, 'position': 1}\n"
          ],
          "name": "stdout"
        }
      ]
    },
    {
      "cell_type": "code",
      "metadata": {
        "colab": {
          "base_uri": "https://localhost:8080/",
          "height": 417
        },
        "id": "9pVdz6W9IoIw",
        "outputId": "125f4b3e-a2ca-41ac-900f-9c27eee0ca32"
      },
      "source": [
        "plt.figure(figsize=(15,6))\n",
        "plt.cla()\n",
        "env.render_all()\n",
        "plt.show()"
      ],
      "execution_count": null,
      "outputs": [
        {
          "output_type": "display_data",
          "data": {
            "image/png": "[encoded data removed]",
            "text/plain": [
              "<Figure size 1080x432 with 1 Axes>"
            ]
          },
          "metadata": {
            "tags": [],
            "needs_background": "light"
          }
        }
      ]
    },
    {
      "cell_type": "code",
      "metadata": {
        "id": "Dwd3lJh8IoIw"
      },
      "source": [
        ""
      ],
      "execution_count": null,
      "outputs": []
    }
  ]
}