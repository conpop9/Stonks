{
  "nbformat": 4,
  "nbformat_minor": 0,
  "metadata": {
    "kernelspec": {
      "display_name": "Python 3",
      "language": "python",
      "name": "python3"
    },
    "language_info": {
      "codemirror_mode": {
        "name": "ipython",
        "version": 3
      },
      "file_extension": ".py",
      "mimetype": "text/x-python",
      "name": "python",
      "nbconvert_exporter": "python",
      "pygments_lexer": "ipython3",
      "version": "3.7.3"
    },
    "colab": {
      "name": "Doge Predict.ipynb",
      "provenance": [],
      "include_colab_link": true
    }
  },
  "cells": [
    {
      "cell_type": "markdown",
      "metadata": {
        "id": "view-in-github",
        "colab_type": "text"
      },
      "source": [
        "<a href=\"https://colab.research.google.com/github/conpop9/Stonks/blob/main/Doge_Predict.ipynb\" target=\"_parent\"><img src=\"https://colab.research.google.com/assets/colab-badge.svg\" alt=\"Open In Colab\"/></a>"
      ]
    },
    {
      "cell_type": "markdown",
      "metadata": {
        "id": "zzTkh3jgWxpR"
      },
      "source": [
        "#Dependencies"
      ]
    },
    {
      "cell_type": "code",
      "metadata": {
        "collapsed": true,
        "id": "eN5cgmj9WxpS"
      },
      "source": [
        "!pip install tensorflow-gpu==1.15.0 tensorflow==1.15.0 stable-baselines gym-anytrading gym"
      ],
      "execution_count": null,
      "outputs": []
    },
    {
      "cell_type": "code",
      "metadata": {
        "id": "DqFxJ9fZWxpS"
      },
      "source": [
        "\n",
        "import gym\n",
        "import gym_anytrading\n",
        "from stable_baselines.common.vec_env import DummyVecEnv\n",
        "from stable_baselines import A2C\n",
        "import numpy as np\n",
        "import pandas as pd\n",
        "from matplotlib import pyplot as plt"
      ],
      "execution_count": null,
      "outputs": []
    },
    {
      "cell_type": "markdown",
      "metadata": {
        "id": "hapFmFgmWxpT"
      },
      "source": [
        "#Importing Doge Coin Data"
      ]
    },
    {
      "cell_type": "code",
      "metadata": {
        "id": "HdHM2MoHWxpT"
      },
      "source": [
        "df = pd.read_csv('doge_coin.csv')"
      ],
      "execution_count": 4,
      "outputs": []
    },
    {
      "cell_type": "code",
      "metadata": {
        "colab": {
          "base_uri": "https://localhost:8080/",
          "height": 204
        },
        "id": "7lsBSDjrWxpT",
        "outputId": "83ba01f5-6994-4ed0-ed58-889f5f55d8fa"
      },
      "source": [
        "df.head()"
      ],
      "execution_count": 5,
      "outputs": [
        {
          "output_type": "execute_result",
          "data": {
            "text/html": [
              "<div>\n",
              "<style scoped>\n",
              "    .dataframe tbody tr th:only-of-type {\n",
              "        vertical-align: middle;\n",
              "    }\n",
              "\n",
              "    .dataframe tbody tr th {\n",
              "        vertical-align: top;\n",
              "    }\n",
              "\n",
              "    .dataframe thead th {\n",
              "        text-align: right;\n",
              "    }\n",
              "</style>\n",
              "<table border=\"1\" class=\"dataframe\">\n",
              "  <thead>\n",
              "    <tr style=\"text-align: right;\">\n",
              "      <th></th>\n",
              "      <th>Date</th>\n",
              "      <th>Open</th>\n",
              "      <th>High</th>\n",
              "      <th>Low</th>\n",
              "      <th>Close</th>\n",
              "      <th>Volume</th>\n",
              "    </tr>\n",
              "  </thead>\n",
              "  <tbody>\n",
              "    <tr>\n",
              "      <th>0</th>\n",
              "      <td>04/01/2020</td>\n",
              "      <td>0.002550</td>\n",
              "      <td>0.002655</td>\n",
              "      <td>0.002533</td>\n",
              "      <td>0.002630</td>\n",
              "      <td>1400000000</td>\n",
              "    </tr>\n",
              "    <tr>\n",
              "      <th>1</th>\n",
              "      <td>05/01/2020</td>\n",
              "      <td>0.002638</td>\n",
              "      <td>0.002639</td>\n",
              "      <td>0.002572</td>\n",
              "      <td>0.002600</td>\n",
              "      <td>1270000000</td>\n",
              "    </tr>\n",
              "    <tr>\n",
              "      <th>2</th>\n",
              "      <td>06/01/2020</td>\n",
              "      <td>0.002517</td>\n",
              "      <td>0.002560</td>\n",
              "      <td>0.002484</td>\n",
              "      <td>0.002546</td>\n",
              "      <td>1260000000</td>\n",
              "    </tr>\n",
              "    <tr>\n",
              "      <th>3</th>\n",
              "      <td>07/01/2020</td>\n",
              "      <td>0.003716</td>\n",
              "      <td>0.003793</td>\n",
              "      <td>0.002945</td>\n",
              "      <td>0.003245</td>\n",
              "      <td>7720000000</td>\n",
              "    </tr>\n",
              "    <tr>\n",
              "      <th>4</th>\n",
              "      <td>09/01/2020</td>\n",
              "      <td>0.009728</td>\n",
              "      <td>0.010253</td>\n",
              "      <td>0.008834</td>\n",
              "      <td>0.009753</td>\n",
              "      <td>5480000000</td>\n",
              "    </tr>\n",
              "  </tbody>\n",
              "</table>\n",
              "</div>"
            ],
            "text/plain": [
              "         Date      Open      High       Low     Close      Volume\n",
              "0  04/01/2020  0.002550  0.002655  0.002533  0.002630  1400000000\n",
              "1  05/01/2020  0.002638  0.002639  0.002572  0.002600  1270000000\n",
              "2  06/01/2020  0.002517  0.002560  0.002484  0.002546  1260000000\n",
              "3  07/01/2020  0.003716  0.003793  0.002945  0.003245  7720000000\n",
              "4  09/01/2020  0.009728  0.010253  0.008834  0.009753  5480000000"
            ]
          },
          "metadata": {
            "tags": []
          },
          "execution_count": 5
        }
      ]
    },
    {
      "cell_type": "code",
      "metadata": {
        "colab": {
          "base_uri": "https://localhost:8080/"
        },
        "id": "Z9ja8smXWxpT",
        "outputId": "08082e4b-4477-4cfe-b77b-fddd452c441d"
      },
      "source": [
        "df['Date'] = pd.to_datetime(df['Date'])\n",
        "df.dtypes"
      ],
      "execution_count": 6,
      "outputs": [
        {
          "output_type": "execute_result",
          "data": {
            "text/plain": [
              "Date      datetime64[ns]\n",
              "Open             float64\n",
              "High             float64\n",
              "Low              float64\n",
              "Close            float64\n",
              "Volume             int64\n",
              "dtype: object"
            ]
          },
          "metadata": {
            "tags": []
          },
          "execution_count": 6
        }
      ]
    },
    {
      "cell_type": "code",
      "metadata": {
        "colab": {
          "base_uri": "https://localhost:8080/",
          "height": 235
        },
        "id": "dmzrb9fGWxpU",
        "outputId": "e5557123-8fa9-4b5c-ecec-f81d57306f54"
      },
      "source": [
        "df.set_index('Date', inplace=True)\n",
        "df.head()"
      ],
      "execution_count": 7,
      "outputs": [
        {
          "output_type": "execute_result",
          "data": {
            "text/html": [
              "<div>\n",
              "<style scoped>\n",
              "    .dataframe tbody tr th:only-of-type {\n",
              "        vertical-align: middle;\n",
              "    }\n",
              "\n",
              "    .dataframe tbody tr th {\n",
              "        vertical-align: top;\n",
              "    }\n",
              "\n",
              "    .dataframe thead th {\n",
              "        text-align: right;\n",
              "    }\n",
              "</style>\n",
              "<table border=\"1\" class=\"dataframe\">\n",
              "  <thead>\n",
              "    <tr style=\"text-align: right;\">\n",
              "      <th></th>\n",
              "      <th>Open</th>\n",
              "      <th>High</th>\n",
              "      <th>Low</th>\n",
              "      <th>Close</th>\n",
              "      <th>Volume</th>\n",
              "    </tr>\n",
              "    <tr>\n",
              "      <th>Date</th>\n",
              "      <th></th>\n",
              "      <th></th>\n",
              "      <th></th>\n",
              "      <th></th>\n",
              "      <th></th>\n",
              "    </tr>\n",
              "  </thead>\n",
              "  <tbody>\n",
              "    <tr>\n",
              "      <th>2020-04-01</th>\n",
              "      <td>0.002550</td>\n",
              "      <td>0.002655</td>\n",
              "      <td>0.002533</td>\n",
              "      <td>0.002630</td>\n",
              "      <td>1400000000</td>\n",
              "    </tr>\n",
              "    <tr>\n",
              "      <th>2020-05-01</th>\n",
              "      <td>0.002638</td>\n",
              "      <td>0.002639</td>\n",
              "      <td>0.002572</td>\n",
              "      <td>0.002600</td>\n",
              "      <td>1270000000</td>\n",
              "    </tr>\n",
              "    <tr>\n",
              "      <th>2020-06-01</th>\n",
              "      <td>0.002517</td>\n",
              "      <td>0.002560</td>\n",
              "      <td>0.002484</td>\n",
              "      <td>0.002546</td>\n",
              "      <td>1260000000</td>\n",
              "    </tr>\n",
              "    <tr>\n",
              "      <th>2020-07-01</th>\n",
              "      <td>0.003716</td>\n",
              "      <td>0.003793</td>\n",
              "      <td>0.002945</td>\n",
              "      <td>0.003245</td>\n",
              "      <td>7720000000</td>\n",
              "    </tr>\n",
              "    <tr>\n",
              "      <th>2020-09-01</th>\n",
              "      <td>0.009728</td>\n",
              "      <td>0.010253</td>\n",
              "      <td>0.008834</td>\n",
              "      <td>0.009753</td>\n",
              "      <td>5480000000</td>\n",
              "    </tr>\n",
              "  </tbody>\n",
              "</table>\n",
              "</div>"
            ],
            "text/plain": [
              "                Open      High       Low     Close      Volume\n",
              "Date                                                          \n",
              "2020-04-01  0.002550  0.002655  0.002533  0.002630  1400000000\n",
              "2020-05-01  0.002638  0.002639  0.002572  0.002600  1270000000\n",
              "2020-06-01  0.002517  0.002560  0.002484  0.002546  1260000000\n",
              "2020-07-01  0.003716  0.003793  0.002945  0.003245  7720000000\n",
              "2020-09-01  0.009728  0.010253  0.008834  0.009753  5480000000"
            ]
          },
          "metadata": {
            "tags": []
          },
          "execution_count": 7
        }
      ]
    },
    {
      "cell_type": "code",
      "metadata": {
        "id": "Aod5onV-WxpU"
      },
      "source": [
        "env = gym.make('stocks-v0', df=df, frame_bound=(5,100), window_size=5)"
      ],
      "execution_count": 8,
      "outputs": []
    },
    {
      "cell_type": "code",
      "metadata": {
        "scrolled": true,
        "id": "MD20PsIxWxpU",
        "colab": {
          "base_uri": "https://localhost:8080/"
        },
        "outputId": "1e10ad0b-c8aa-4d48-fa99-c47dc6292e13"
      },
      "source": [
        "env.signal_features"
      ],
      "execution_count": 9,
      "outputs": [
        {
          "output_type": "execute_result",
          "data": {
            "text/plain": [
              "array([[ 2.63000e-03,  0.00000e+00],\n",
              "       [ 2.60000e-03, -3.00000e-05],\n",
              "       [ 2.54600e-03, -5.40000e-05],\n",
              "       [ 3.24500e-03,  6.99000e-04],\n",
              "       [ 9.75300e-03,  6.50800e-03],\n",
              "       [ 4.65970e-02,  3.68440e-02],\n",
              "       [ 5.52610e-02,  8.66400e-03],\n",
              "       [ 2.71300e-03, -5.25480e-02],\n",
              "       [ 2.63900e-03, -7.40000e-05],\n",
              "       [ 3.27000e-03,  6.31000e-04],\n",
              "       [ 1.01580e-02,  6.88800e-03],\n",
              "       [ 2.81970e-02,  1.80390e-02],\n",
              "       [ 5.41350e-02,  2.59380e-02],\n",
              "       [ 6.26940e-02,  8.55900e-03],\n",
              "       [ 2.69700e-03, -5.99970e-02],\n",
              "       [ 2.75700e-03,  6.00000e-05],\n",
              "       [ 3.86300e-03,  1.10600e-03],\n",
              "       [ 9.83100e-03,  5.96800e-03],\n",
              "       [ 5.58810e-02,  4.60500e-02],\n",
              "       [ 5.84310e-02,  2.55000e-03],\n",
              "       [ 2.60400e-03, -5.58270e-02],\n",
              "       [ 2.67000e-03,  6.60000e-05],\n",
              "       [ 3.92500e-03,  1.25500e-03],\n",
              "       [ 8.82800e-03,  4.90300e-03],\n",
              "       [ 5.35300e-02,  4.47020e-02],\n",
              "       [ 5.69650e-02,  3.43500e-03],\n",
              "       [ 2.58500e-03, -5.43800e-02],\n",
              "       [ 2.70700e-03,  1.22000e-04],\n",
              "       [ 4.64100e-03,  1.93400e-03],\n",
              "       [ 3.68410e-02,  3.22000e-02],\n",
              "       [ 4.76730e-02,  1.08320e-02],\n",
              "       [ 2.69700e-03, -4.49760e-02],\n",
              "       [ 2.59300e-03, -1.04000e-04],\n",
              "       [ 3.39200e-03,  7.99000e-04],\n",
              "       [ 4.77300e-03,  1.38100e-03],\n",
              "       [ 3.47050e-02,  2.99320e-02],\n",
              "       [ 5.66530e-02,  2.19480e-02],\n",
              "       [ 2.64900e-03, -5.40040e-02],\n",
              "       [ 2.59200e-03, -5.70000e-05],\n",
              "       [ 3.44000e-03,  8.48000e-04],\n",
              "       [ 4.51400e-03,  1.07400e-03],\n",
              "       [ 3.12960e-02,  2.67820e-02],\n",
              "       [ 5.86110e-02,  2.73150e-02],\n",
              "       [ 2.67300e-03, -5.59380e-02],\n",
              "       [ 2.59500e-03, -7.80000e-05],\n",
              "       [ 2.67300e-03,  7.80000e-05],\n",
              "       [ 3.55100e-03,  8.78000e-04],\n",
              "       [ 8.06600e-03,  4.51500e-03],\n",
              "       [ 3.73450e-02,  2.92790e-02],\n",
              "       [ 5.78800e-02,  2.05350e-02],\n",
              "       [ 2.63400e-03, -5.52460e-02],\n",
              "       [ 2.76000e-03,  1.26000e-04],\n",
              "       [ 3.32000e-03,  5.60000e-04],\n",
              "       [ 8.66900e-03,  5.34900e-03],\n",
              "       [ 5.29440e-02,  4.42750e-02],\n",
              "       [ 5.00450e-02, -2.89900e-03],\n",
              "       [ 5.72940e-02,  7.24900e-03],\n",
              "       [ 2.75700e-03, -5.45370e-02],\n",
              "       [ 3.36900e-03,  6.12000e-04],\n",
              "       [ 3.76700e-03,  3.98000e-04],\n",
              "       [ 9.40000e-03,  5.63300e-03],\n",
              "       [ 5.04630e-02,  4.10630e-02],\n",
              "       [ 5.82700e-02,  7.80700e-03],\n",
              "       [ 2.62400e-03, -5.56460e-02],\n",
              "       [ 2.77300e-03,  1.49000e-04],\n",
              "       [ 4.57300e-03,  1.80000e-03],\n",
              "       [ 9.37300e-03,  4.80000e-03],\n",
              "       [ 5.00760e-02,  4.07030e-02],\n",
              "       [ 5.88270e-02,  8.75100e-03],\n",
              "       [ 2.64700e-03, -5.61800e-02],\n",
              "       [ 2.81100e-03,  1.64000e-04],\n",
              "       [ 4.56300e-03,  1.75200e-03],\n",
              "       [ 4.67830e-02,  4.22200e-02],\n",
              "       [ 4.81290e-02,  1.34600e-03],\n",
              "       [ 2.60810e-01,  2.12681e-01],\n",
              "       [ 4.93231e-01,  2.32421e-01],\n",
              "       [ 2.48731e-01, -2.44500e-01],\n",
              "       [ 3.89159e-01,  1.40428e-01],\n",
              "       [ 2.70017e-01, -1.19142e-01],\n",
              "       [ 4.86910e-01,  2.16893e-01],\n",
              "       [ 5.55540e-02, -4.31356e-01],\n",
              "       [ 2.51103e-01,  1.95549e-01],\n",
              "       [ 5.59581e-01,  3.08478e-01],\n",
              "       [ 5.74010e-02, -5.02180e-01],\n",
              "       [ 2.69805e-01,  2.12404e-01],\n",
              "       [ 5.07448e-01,  2.37643e-01],\n",
              "       [ 5.99480e-02, -4.47500e-01],\n",
              "       [ 6.42830e-02,  4.33500e-03],\n",
              "       [ 5.87280e-02, -5.55500e-03],\n",
              "       [ 2.70668e-01,  2.11940e-01],\n",
              "       [ 5.13023e-01,  2.42355e-01],\n",
              "       [ 3.23582e-01, -1.89441e-01],\n",
              "       [ 4.86366e-01,  1.62784e-01],\n",
              "       [ 3.03240e-01, -1.83126e-01],\n",
              "       [ 4.74714e-01,  1.71474e-01],\n",
              "       [ 6.17570e-02, -4.12957e-01],\n",
              "       [ 3.36635e-01,  2.74878e-01],\n",
              "       [ 3.30353e-01, -6.28200e-03],\n",
              "       [ 6.15820e-02, -2.68771e-01],\n",
              "       [ 3.90642e-01,  3.29060e-01]])"
            ]
          },
          "metadata": {
            "tags": []
          },
          "execution_count": 9
        }
      ]
    },
    {
      "cell_type": "markdown",
      "metadata": {
        "id": "kE03oO41WxpU"
      },
      "source": [
        "# Environment"
      ]
    },
    {
      "cell_type": "code",
      "metadata": {
        "colab": {
          "base_uri": "https://localhost:8080/"
        },
        "id": "-_zhaO7fWxpU",
        "outputId": "6244eb77-31ba-4e78-83f6-6b966a73caa4"
      },
      "source": [
        "env.action_space"
      ],
      "execution_count": 10,
      "outputs": [
        {
          "output_type": "execute_result",
          "data": {
            "text/plain": [
              "Discrete(2)"
            ]
          },
          "metadata": {
            "tags": []
          },
          "execution_count": 10
        }
      ]
    },
    {
      "cell_type": "code",
      "metadata": {
        "colab": {
          "base_uri": "https://localhost:8080/",
          "height": 434
        },
        "id": "T7cYA_48WxpV",
        "outputId": "14fcee4b-5b7a-43dc-c842-6e4d15d673db"
      },
      "source": [
        "state = env.reset()\n",
        "while True: \n",
        "    action = env.action_space.sample()\n",
        "    n_state, reward, done, info = env.step(action)\n",
        "    if done: \n",
        "        print(\"info\", info)\n",
        "        break\n",
        "        \n",
        "plt.figure(figsize=(15,6))\n",
        "plt.cla()\n",
        "env.render_all()\n",
        "plt.show()"
      ],
      "execution_count": 11,
      "outputs": [
        {
          "output_type": "stream",
          "text": [
            "info {'total_reward': -0.23587000000000008, 'total_profit': 43.7672830418505, 'position': 0}\n"
          ],
          "name": "stdout"
        },
        {
          "output_type": "display_data",
          "data": {
            "image/png": "[encoded data removed]",
            "text/plain": [
              "<Figure size 1080x432 with 1 Axes>"
            ]
          },
          "metadata": {
            "tags": [],
            "needs_background": "light"
          }
        }
      ]
    },
    {
      "cell_type": "markdown",
      "metadata": {
        "id": "uNi26GZJWxpV"
      },
      "source": [
        "# Training Model"
      ]
    },
    {
      "cell_type": "code",
      "metadata": {
        "id": "8XajA-G3WxpV"
      },
      "source": [
        "env_maker = lambda: gym.make('stocks-v0', df=df, frame_bound=(5,100), window_size=5)\n",
        "env = DummyVecEnv([env_maker])"
      ],
      "execution_count": 12,
      "outputs": []
    },
    {
      "cell_type": "code",
      "metadata": {
        "scrolled": true,
        "id": "XWC1Uq1yWxpV"
      },
      "source": [
        "model = A2C('MlpLstmPolicy', env, verbose=1) \n",
        "model.learn(total_timesteps=1000000)"
      ],
      "execution_count": null,
      "outputs": []
    },
    {
      "cell_type": "markdown",
      "metadata": {
        "id": "CSOLjO1NWxpV"
      },
      "source": [
        "# Evaluation"
      ]
    },
    {
      "cell_type": "code",
      "metadata": {
        "colab": {
          "base_uri": "https://localhost:8080/"
        },
        "id": "CqjWDgTjWxpV",
        "outputId": "05c6135d-8f62-4f9d-9f24-e1038d4f9896"
      },
      "source": [
        "env = gym.make('stocks-v0', df=df, frame_bound=(90,110), window_size=5)\n",
        "obs = env.reset()\n",
        "while True: \n",
        "    obs = obs[np.newaxis, ...]\n",
        "    action, _states = model.predict(obs)\n",
        "    obs, rewards, done, info = env.step(action)\n",
        "    if done:\n",
        "        print(\"info\", info)\n",
        "        break"
      ],
      "execution_count": 14,
      "outputs": [
        {
          "output_type": "stream",
          "text": [
            "info {'total_reward': 0.5576659999999998, 'total_profit': 23.56724048148584, 'position': 0}\n"
          ],
          "name": "stdout"
        }
      ]
    },
    {
      "cell_type": "code",
      "metadata": {
        "colab": {
          "base_uri": "https://localhost:8080/",
          "height": 417
        },
        "id": "pve3NZyfWxpW",
        "outputId": "a4a18c44-2182-436d-d6b8-1b5752587ffe"
      },
      "source": [
        "plt.figure(figsize=(15,6))\n",
        "plt.cla()\n",
        "env.render_all()\n",
        "plt.show()"
      ],
      "execution_count": 15,
      "outputs": [
        {
          "output_type": "display_data",
          "data": {
            "image/png": "[encoded data removed]",
            "text/plain": [
              "<Figure size 1080x432 with 1 Axes>"
            ]
          },
          "metadata": {
            "tags": [],
            "needs_background": "light"
          }
        }
      ]
    },
    {
      "cell_type": "code",
      "metadata": {
        "id": "iCkgUSKdWxpW"
      },
      "source": [
        ""
      ],
      "execution_count": null,
      "outputs": []
    }
  ]
}