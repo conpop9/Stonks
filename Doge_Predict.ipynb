{
  "nbformat": 4,
  "nbformat_minor": 0,
  "metadata": {
    "kernelspec": {
      "display_name": "Python 3",
      "language": "python",
      "name": "python3"
    },
    "language_info": {
      "codemirror_mode": {
        "name": "ipython",
        "version": 3
      },
      "file_extension": ".py",
      "mimetype": "text/x-python",
      "name": "python",
      "nbconvert_exporter": "python",
      "pygments_lexer": "ipython3",
      "version": "3.7.3"
    },
    "colab": {
      "name": "Doge Predict.ipynb",
      "provenance": [],
      "include_colab_link": true
    }
  },
  "cells": [
    {
      "cell_type": "markdown",
      "metadata": {
        "id": "view-in-github",
        "colab_type": "text"
      },
      "source": [
        "<a href=\"https://colab.research.google.com/github/conpop9/Stonks/blob/main/Doge_Predict.ipynb\" target=\"_parent\"><img src=\"https://colab.research.google.com/assets/colab-badge.svg\" alt=\"Open In Colab\"/></a>"
      ]
    },
    {
      "cell_type": "markdown",
      "metadata": {
        "id": "zzTkh3jgWxpR"
      },
      "source": [
        "Dependencies"
      ]
    },
    {
      "cell_type": "code",
      "metadata": {
        "collapsed": true,
        "id": "eN5cgmj9WxpS"
      },
      "source": [
        "!pip install tensorflow-gpu==1.15.0 tensorflow==1.15.0 stable-baselines gym-anytrading gym"
      ],
      "execution_count": null,
      "outputs": []
    },
    {
      "cell_type": "code",
      "metadata": {
        "id": "DqFxJ9fZWxpS"
      },
      "source": [
        "\n",
        "import gym\n",
        "import gym_anytrading\n",
        "from stable_baselines.common.vec_env import DummyVecEnv\n",
        "from stable_baselines import A2C\n",
        "import numpy as np\n",
        "import pandas as pd\n",
        "from matplotlib import pyplot as plt"
      ],
      "execution_count": null,
      "outputs": []
    },
    {
      "cell_type": "markdown",
      "metadata": {
        "id": "hapFmFgmWxpT"
      },
      "source": [
        "Importing Doge Coin Data"
      ]
    },
    {
      "cell_type": "code",
      "metadata": {
        "id": "HdHM2MoHWxpT"
      },
      "source": [
        "df = pd.read_csv('doge.csv')"
      ],
      "execution_count": 14,
      "outputs": []
    },
    {
      "cell_type": "code",
      "metadata": {
        "colab": {
          "base_uri": "https://localhost:8080/",
          "height": 204
        },
        "id": "7lsBSDjrWxpT",
        "outputId": "3f8a05d2-7b08-42a3-b5b8-3d0b6c235d3c"
      },
      "source": [
        "df.head()"
      ],
      "execution_count": 15,
      "outputs": [
        {
          "output_type": "execute_result",
          "data": {
            "text/html": [
              "<div>\n",
              "<style scoped>\n",
              "    .dataframe tbody tr th:only-of-type {\n",
              "        vertical-align: middle;\n",
              "    }\n",
              "\n",
              "    .dataframe tbody tr th {\n",
              "        vertical-align: top;\n",
              "    }\n",
              "\n",
              "    .dataframe thead th {\n",
              "        text-align: right;\n",
              "    }\n",
              "</style>\n",
              "<table border=\"1\" class=\"dataframe\">\n",
              "  <thead>\n",
              "    <tr style=\"text-align: right;\">\n",
              "      <th></th>\n",
              "      <th>Date</th>\n",
              "      <th>Open</th>\n",
              "      <th>High</th>\n",
              "      <th>Low</th>\n",
              "      <th>Close</th>\n",
              "      <th>Volume</th>\n",
              "    </tr>\n",
              "  </thead>\n",
              "  <tbody>\n",
              "    <tr>\n",
              "      <th>0</th>\n",
              "      <td>03/12/21</td>\n",
              "      <td>0.330407</td>\n",
              "      <td>0.432618</td>\n",
              "      <td>0.297074</td>\n",
              "      <td>0.397741</td>\n",
              "      <td>13850000000</td>\n",
              "    </tr>\n",
              "    <tr>\n",
              "      <th>1</th>\n",
              "      <td>03/11/21</td>\n",
              "      <td>0.474719</td>\n",
              "      <td>0.477866</td>\n",
              "      <td>0.217528</td>\n",
              "      <td>0.330353</td>\n",
              "      <td>19280000000</td>\n",
              "    </tr>\n",
              "    <tr>\n",
              "      <th>2</th>\n",
              "      <td>03/10/21</td>\n",
              "      <td>0.486444</td>\n",
              "      <td>0.512529</td>\n",
              "      <td>0.468941</td>\n",
              "      <td>0.474714</td>\n",
              "      <td>4750000000</td>\n",
              "    </tr>\n",
              "    <tr>\n",
              "      <th>3</th>\n",
              "      <td>03/09/21</td>\n",
              "      <td>0.513062</td>\n",
              "      <td>0.514821</td>\n",
              "      <td>0.457331</td>\n",
              "      <td>0.486366</td>\n",
              "      <td>6840000000</td>\n",
              "    </tr>\n",
              "    <tr>\n",
              "      <th>4</th>\n",
              "      <td>03/08/21</td>\n",
              "      <td>0.507796</td>\n",
              "      <td>0.547205</td>\n",
              "      <td>0.449635</td>\n",
              "      <td>0.513023</td>\n",
              "      <td>8260000000</td>\n",
              "    </tr>\n",
              "  </tbody>\n",
              "</table>\n",
              "</div>"
            ],
            "text/plain": [
              "       Date      Open      High       Low     Close       Volume\n",
              "0  03/12/21  0.330407  0.432618  0.297074  0.397741  13850000000\n",
              "1  03/11/21  0.474719  0.477866  0.217528  0.330353  19280000000\n",
              "2  03/10/21  0.486444  0.512529  0.468941  0.474714   4750000000\n",
              "3  03/09/21  0.513062  0.514821  0.457331  0.486366   6840000000\n",
              "4  03/08/21  0.507796  0.547205  0.449635  0.513023   8260000000"
            ]
          },
          "metadata": {
            "tags": []
          },
          "execution_count": 15
        }
      ]
    },
    {
      "cell_type": "code",
      "metadata": {
        "colab": {
          "base_uri": "https://localhost:8080/"
        },
        "id": "Z9ja8smXWxpT",
        "outputId": "a8677bae-fa38-470a-df83-1c511b00dcf8"
      },
      "source": [
        "df['Date'] = pd.to_datetime(df['Date'])\n",
        "df.dtypes"
      ],
      "execution_count": 16,
      "outputs": [
        {
          "output_type": "execute_result",
          "data": {
            "text/plain": [
              "Date      datetime64[ns]\n",
              "Open             float64\n",
              "High             float64\n",
              "Low              float64\n",
              "Close            float64\n",
              "Volume             int64\n",
              "dtype: object"
            ]
          },
          "metadata": {
            "tags": []
          },
          "execution_count": 16
        }
      ]
    },
    {
      "cell_type": "code",
      "metadata": {
        "colab": {
          "base_uri": "https://localhost:8080/",
          "height": 235
        },
        "id": "dmzrb9fGWxpU",
        "outputId": "2489764e-f727-4e0d-c5de-c710e1a84e1a"
      },
      "source": [
        "df.set_index('Date', inplace=True)\n",
        "df.head()"
      ],
      "execution_count": 17,
      "outputs": [
        {
          "output_type": "execute_result",
          "data": {
            "text/html": [
              "<div>\n",
              "<style scoped>\n",
              "    .dataframe tbody tr th:only-of-type {\n",
              "        vertical-align: middle;\n",
              "    }\n",
              "\n",
              "    .dataframe tbody tr th {\n",
              "        vertical-align: top;\n",
              "    }\n",
              "\n",
              "    .dataframe thead th {\n",
              "        text-align: right;\n",
              "    }\n",
              "</style>\n",
              "<table border=\"1\" class=\"dataframe\">\n",
              "  <thead>\n",
              "    <tr style=\"text-align: right;\">\n",
              "      <th></th>\n",
              "      <th>Open</th>\n",
              "      <th>High</th>\n",
              "      <th>Low</th>\n",
              "      <th>Close</th>\n",
              "      <th>Volume</th>\n",
              "    </tr>\n",
              "    <tr>\n",
              "      <th>Date</th>\n",
              "      <th></th>\n",
              "      <th></th>\n",
              "      <th></th>\n",
              "      <th></th>\n",
              "      <th></th>\n",
              "    </tr>\n",
              "  </thead>\n",
              "  <tbody>\n",
              "    <tr>\n",
              "      <th>2021-03-12</th>\n",
              "      <td>0.330407</td>\n",
              "      <td>0.432618</td>\n",
              "      <td>0.297074</td>\n",
              "      <td>0.397741</td>\n",
              "      <td>13850000000</td>\n",
              "    </tr>\n",
              "    <tr>\n",
              "      <th>2021-03-11</th>\n",
              "      <td>0.474719</td>\n",
              "      <td>0.477866</td>\n",
              "      <td>0.217528</td>\n",
              "      <td>0.330353</td>\n",
              "      <td>19280000000</td>\n",
              "    </tr>\n",
              "    <tr>\n",
              "      <th>2021-03-10</th>\n",
              "      <td>0.486444</td>\n",
              "      <td>0.512529</td>\n",
              "      <td>0.468941</td>\n",
              "      <td>0.474714</td>\n",
              "      <td>4750000000</td>\n",
              "    </tr>\n",
              "    <tr>\n",
              "      <th>2021-03-09</th>\n",
              "      <td>0.513062</td>\n",
              "      <td>0.514821</td>\n",
              "      <td>0.457331</td>\n",
              "      <td>0.486366</td>\n",
              "      <td>6840000000</td>\n",
              "    </tr>\n",
              "    <tr>\n",
              "      <th>2021-03-08</th>\n",
              "      <td>0.507796</td>\n",
              "      <td>0.547205</td>\n",
              "      <td>0.449635</td>\n",
              "      <td>0.513023</td>\n",
              "      <td>8260000000</td>\n",
              "    </tr>\n",
              "  </tbody>\n",
              "</table>\n",
              "</div>"
            ],
            "text/plain": [
              "                Open      High       Low     Close       Volume\n",
              "Date                                                           \n",
              "2021-03-12  0.330407  0.432618  0.297074  0.397741  13850000000\n",
              "2021-03-11  0.474719  0.477866  0.217528  0.330353  19280000000\n",
              "2021-03-10  0.486444  0.512529  0.468941  0.474714   4750000000\n",
              "2021-03-09  0.513062  0.514821  0.457331  0.486366   6840000000\n",
              "2021-03-08  0.507796  0.547205  0.449635  0.513023   8260000000"
            ]
          },
          "metadata": {
            "tags": []
          },
          "execution_count": 17
        }
      ]
    },
    {
      "cell_type": "code",
      "metadata": {
        "id": "Aod5onV-WxpU"
      },
      "source": [
        "env = gym.make('stocks-v0', df=df, frame_bound=(5,100), window_size=5)"
      ],
      "execution_count": 18,
      "outputs": []
    },
    {
      "cell_type": "code",
      "metadata": {
        "scrolled": true,
        "id": "MD20PsIxWxpU",
        "outputId": "a39a98e0-62ee-49e8-dd21-b6c862d19259"
      },
      "source": [
        "env.signal_features"
      ],
      "execution_count": null,
      "outputs": [
        {
          "output_type": "execute_result",
          "data": {
            "text/plain": [
              "array([[ 2.6450e+02,  0.0000e+00],\n",
              "       [ 2.6000e+02, -4.5000e+00],\n",
              "       [ 2.6500e+02,  5.0000e+00],\n",
              "       [ 2.4690e+02, -1.8100e+01],\n",
              "       [ 1.9450e+02, -5.2400e+01],\n",
              "       [ 1.3774e+02, -5.6760e+01],\n",
              "       [ 1.3235e+02, -5.3900e+00],\n",
              "       [ 1.2418e+02, -8.1700e+00],\n",
              "       [ 1.1818e+02, -6.0000e+00],\n",
              "       [ 1.2040e+02,  2.2200e+00],\n",
              "       [ 1.0174e+02, -1.8660e+01],\n",
              "       [ 1.0873e+02,  6.9900e+00],\n",
              "       [ 9.1710e+01, -1.7020e+01],\n",
              "       [ 4.4970e+01, -4.6740e+01],\n",
              "       [ 4.6000e+01,  1.0300e+00],\n",
              "       [ 4.0590e+01, -5.4100e+00],\n",
              "       [ 4.0690e+01,  1.0000e-01],\n",
              "       [ 4.5940e+01,  5.2500e+00],\n",
              "       [ 4.9510e+01,  3.5700e+00],\n",
              "       [ 5.2400e+01,  2.8900e+00],\n",
              "       [ 5.1100e+01, -1.3000e+00],\n",
              "       [ 5.1200e+01,  1.0000e-01],\n",
              "       [ 5.0310e+01, -8.9000e-01],\n",
              "       [ 6.0000e+01,  9.6900e+00],\n",
              "       [ 6.3770e+01,  3.7700e+00],\n",
              "       [ 5.3500e+01, -1.0270e+01],\n",
              "       [ 9.2410e+01,  3.8910e+01],\n",
              "       [ 9.0000e+01, -2.4100e+00],\n",
              "       [ 2.2500e+02,  1.3500e+02],\n",
              "       [ 3.2500e+02,  1.0000e+02],\n",
              "       [ 1.9360e+02, -1.3140e+02],\n",
              "       [ 3.4751e+02,  1.5391e+02],\n",
              "       [ 1.4798e+02, -1.9953e+02],\n",
              "       [ 7.6790e+01, -7.1190e+01],\n",
              "       [ 6.5010e+01, -1.1780e+01],\n",
              "       [ 4.3030e+01, -2.1980e+01],\n",
              "       [ 3.9120e+01, -3.9100e+00],\n",
              "       [ 3.9360e+01,  2.4000e-01],\n",
              "       [ 3.5500e+01, -3.8600e+00],\n",
              "       [ 3.9910e+01,  4.4100e+00],\n",
              "       [ 3.1400e+01, -8.5100e+00],\n",
              "       [ 1.9950e+01, -1.1450e+01],\n",
              "       [ 1.9940e+01, -1.0000e-02],\n",
              "       [ 1.7690e+01, -2.2500e+00],\n",
              "       [ 1.8080e+01,  3.9000e-01],\n",
              "       [ 1.8360e+01,  2.8000e-01],\n",
              "       [ 1.7370e+01, -9.9000e-01],\n",
              "       [ 1.7250e+01, -1.2000e-01],\n",
              "       [ 1.8840e+01,  1.5900e+00],\n",
              "       [ 1.9260e+01,  4.2000e-01],\n",
              "       [ 1.9380e+01,  1.2000e-01],\n",
              "       [ 2.0990e+01,  1.6100e+00],\n",
              "       [ 2.0150e+01, -8.4000e-01],\n",
              "       [ 2.0570e+01,  4.2000e-01],\n",
              "       [ 1.9460e+01, -1.1100e+00],\n",
              "       [ 1.5530e+01, -3.9300e+00],\n",
              "       [ 1.5630e+01,  1.0000e-01],\n",
              "       [ 1.4830e+01, -8.0000e-01],\n",
              "       [ 1.3850e+01, -9.8000e-01],\n",
              "       [ 1.3850e+01,  0.0000e+00],\n",
              "       [ 1.2720e+01, -1.1300e+00],\n",
              "       [ 1.3310e+01,  5.9000e-01],\n",
              "       [ 1.4120e+01,  8.1000e-01],\n",
              "       [ 1.3660e+01, -4.6000e-01],\n",
              "       [ 1.6940e+01,  3.2800e+00],\n",
              "       [ 1.6350e+01, -5.9000e-01],\n",
              "       [ 1.6900e+01,  5.5000e-01],\n",
              "       [ 1.6120e+01, -7.8000e-01],\n",
              "       [ 1.6580e+01,  4.6000e-01],\n",
              "       [ 1.5800e+01, -7.8000e-01],\n",
              "       [ 1.6560e+01,  7.6000e-01],\n",
              "       [ 1.6080e+01, -4.8000e-01],\n",
              "       [ 1.4750e+01, -1.3300e+00],\n",
              "       [ 1.3670e+01, -1.0800e+00],\n",
              "       [ 1.3900e+01,  2.3000e-01],\n",
              "       [ 1.2710e+01, -1.1900e+00],\n",
              "       [ 1.2460e+01, -2.5000e-01],\n",
              "       [ 1.1570e+01, -8.9000e-01],\n",
              "       [ 1.1630e+01,  6.0000e-02],\n",
              "       [ 1.2060e+01,  4.3000e-01],\n",
              "       [ 1.1010e+01, -1.0500e+00],\n",
              "       [ 1.1130e+01,  1.2000e-01],\n",
              "       [ 1.1750e+01,  6.2000e-01],\n",
              "       [ 1.1100e+01, -6.5000e-01],\n",
              "       [ 1.1490e+01,  3.9000e-01],\n",
              "       [ 1.1860e+01,  3.7000e-01],\n",
              "       [ 1.1450e+01, -4.1000e-01],\n",
              "       [ 1.0910e+01, -5.4000e-01],\n",
              "       [ 1.1570e+01,  6.6000e-01],\n",
              "       [ 1.0750e+01, -8.2000e-01],\n",
              "       [ 1.0470e+01, -2.8000e-01],\n",
              "       [ 1.1730e+01,  1.2600e+00],\n",
              "       [ 1.1820e+01,  9.0000e-02],\n",
              "       [ 1.2690e+01,  8.7000e-01],\n",
              "       [ 1.3450e+01,  7.6000e-01],\n",
              "       [ 1.5000e+01,  1.5500e+00],\n",
              "       [ 1.4910e+01, -9.0000e-02],\n",
              "       [ 1.4100e+01, -8.1000e-01],\n",
              "       [ 1.3860e+01, -2.4000e-01],\n",
              "       [ 1.3910e+01,  5.0000e-02]])"
            ]
          },
          "metadata": {
            "tags": []
          },
          "execution_count": 15
        }
      ]
    },
    {
      "cell_type": "markdown",
      "metadata": {
        "id": "kE03oO41WxpU"
      },
      "source": [
        "# 2. Build Environment"
      ]
    },
    {
      "cell_type": "code",
      "metadata": {
        "colab": {
          "base_uri": "https://localhost:8080/"
        },
        "id": "-_zhaO7fWxpU",
        "outputId": "fec1882d-c70c-41e2-d68a-2c6e21c54e60"
      },
      "source": [
        "env.action_space"
      ],
      "execution_count": 19,
      "outputs": [
        {
          "output_type": "execute_result",
          "data": {
            "text/plain": [
              "Discrete(2)"
            ]
          },
          "metadata": {
            "tags": []
          },
          "execution_count": 19
        }
      ]
    },
    {
      "cell_type": "code",
      "metadata": {
        "colab": {
          "base_uri": "https://localhost:8080/",
          "height": 434
        },
        "id": "T7cYA_48WxpV",
        "outputId": "f86cb334-0054-4c0f-85d9-f2c9df71406d"
      },
      "source": [
        "state = env.reset()\n",
        "while True: \n",
        "    action = env.action_space.sample()\n",
        "    n_state, reward, done, info = env.step(action)\n",
        "    if done: \n",
        "        print(\"info\", info)\n",
        "        break\n",
        "        \n",
        "plt.figure(figsize=(15,6))\n",
        "plt.cla()\n",
        "env.render_all()\n",
        "plt.show()"
      ],
      "execution_count": 20,
      "outputs": [
        {
          "output_type": "stream",
          "text": [
            "info {'total_reward': -0.33654699999999993, 'total_profit': 0.09982458467218713, 'position': 0}\n"
          ],
          "name": "stdout"
        },
        {
          "output_type": "display_data",
          "data": {
            "image/png": "[encoded data removed]",
            "text/plain": [
              "<Figure size 1080x432 with 1 Axes>"
            ]
          },
          "metadata": {
            "tags": [],
            "needs_background": "light"
          }
        }
      ]
    },
    {
      "cell_type": "markdown",
      "metadata": {
        "id": "uNi26GZJWxpV"
      },
      "source": [
        "# 3. Build Environment and Train"
      ]
    },
    {
      "cell_type": "code",
      "metadata": {
        "id": "8XajA-G3WxpV"
      },
      "source": [
        "env_maker = lambda: gym.make('stocks-v0', df=df, frame_bound=(5,100), window_size=5)\n",
        "env = DummyVecEnv([env_maker])"
      ],
      "execution_count": 21,
      "outputs": []
    },
    {
      "cell_type": "code",
      "metadata": {
        "scrolled": true,
        "id": "XWC1Uq1yWxpV"
      },
      "source": [
        "model = A2C('MlpLstmPolicy', env, verbose=1) \n",
        "model.learn(total_timesteps=1000000)"
      ],
      "execution_count": null,
      "outputs": []
    },
    {
      "cell_type": "markdown",
      "metadata": {
        "id": "CSOLjO1NWxpV"
      },
      "source": [
        "# 4. Evaluation"
      ]
    },
    {
      "cell_type": "code",
      "metadata": {
        "colab": {
          "base_uri": "https://localhost:8080/"
        },
        "id": "CqjWDgTjWxpV",
        "outputId": "9baf38dd-6b52-4bca-d93a-3f23bd5a7356"
      },
      "source": [
        "env = gym.make('stocks-v0', df=df, frame_bound=(90,110), window_size=5)\n",
        "obs = env.reset()\n",
        "while True: \n",
        "    obs = obs[np.newaxis, ...]\n",
        "    action, _states = model.predict(obs)\n",
        "    obs, rewards, done, info = env.step(action)\n",
        "    if done:\n",
        "        print(\"info\", info)\n",
        "        break"
      ],
      "execution_count": 23,
      "outputs": [
        {
          "output_type": "stream",
          "text": [
            "info {'total_reward': 0.0, 'total_profit': 0.6136947788074543, 'position': 1}\n"
          ],
          "name": "stdout"
        }
      ]
    },
    {
      "cell_type": "code",
      "metadata": {
        "colab": {
          "base_uri": "https://localhost:8080/",
          "height": 417
        },
        "id": "pve3NZyfWxpW",
        "outputId": "39510cb3-496e-4215-b250-df4869d436ba"
      },
      "source": [
        "plt.figure(figsize=(15,6))\n",
        "plt.cla()\n",
        "env.render_all()\n",
        "plt.show()"
      ],
      "execution_count": 24,
      "outputs": [
        {
          "output_type": "display_data",
          "data": {
            "image/png": "[encoded data removed]",
            "text/plain": [
              "<Figure size 1080x432 with 1 Axes>"
            ]
          },
          "metadata": {
            "tags": [],
            "needs_background": "light"
          }
        }
      ]
    },
    {
      "cell_type": "code",
      "metadata": {
        "id": "iCkgUSKdWxpW"
      },
      "source": [
        ""
      ],
      "execution_count": null,
      "outputs": []
    }
  ]
}